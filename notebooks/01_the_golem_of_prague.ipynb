{
 "cells": [
  {
   "cell_type": "markdown",
   "id": "5a8228ec",
   "metadata": {},
   "source": [
    "There is no code in 01_the_golem_of_prague.\n",
    "\n",
    "# 1st Takeaways:\n",
    "- Undergrad / introductory classes to statistics give unexperienced students tools to solve problems without understanding the engineering principles behind it (when and where to use it if appropriate).\n",
    "- The above led to inappropriate usage of classical statistical tools (which are fragile and inflexible). Powerful like golems, but catastrophic when used inappropriately.\n",
    "\n",
    "# 2nd takeaways:\n",
    "- The Popper's idea that we should always `prove things wrong` (rejecting H_0 is what we've learned) is too simple & does not work in practice\n",
    "- 1. relationships between models and hypotheses are complicated: Say we have a hypothesis, build 3 models to test it. But they can come to different conclusions\n",
    "- 2. measurement is always debatable: we can question the method, did we measure the right thing, did we control the confounding variables\n",
    "- So, we shouldnt prove things wrong\n",
    "\n",
    "So when the author say \"Hypotheses are not models\", the rationale is this: \n",
    "1. To test a hypothesis, we gotta come up with a model. Say, our hypothesis is \"stress causes illness\". Then we make a model on what constitute stress (cortisol, heart rate) and illness (gp visits)\n",
    "2. AND all models are false by definition as it is a reduction of the real world. Say a map is false because it doesn't show where a rock might be.\n",
    "3. With point (2), then if we reject a model, are we rejecting reality or are we rejecting the incomplete representation of reality\n",
    "4. So this means, if rejecting model A doesn't let me conclude the hypothesis is false, because maybe we just need Model B, C or D.\n",
    "\n",
    "# 3rd takeaways\n",
    "- As a well known thing, we live in a world where time moves in 1 direction (at our current level of understanding), as an effect, causation is born.\n",
    "- The problem lies with statistical models are brilliant association engine (correlation), but correlation works both way, no way to know which way\n",
    "- So if we are doing passive prediction, what will happen next if things continue as is, then association seems good enough\n",
    "- But if we want `intervention prediction`, say if we do this, what will change. \n",
    "- The author said including confounding variables, real associsations, can improve passive prediction (not so much intervention prediction which require causation)\n",
    "-> The solution is to have `causal models`"
   ]
  }
 ],
 "metadata": {
  "language_info": {
   "name": "python"
  }
 },
 "nbformat": 4,
 "nbformat_minor": 5
}
